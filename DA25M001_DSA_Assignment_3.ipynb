{
  "cells": [
    {
      "cell_type": "markdown",
      "metadata": {
        "id": "TdnN9Bd1m206"
      },
      "source": [
        "# DA5401 A3: Addressing Class Imbalance with Clustering and Resampling\n",
        "\n",
        "## Fraud Detection with Credit Card Transaction Dataset\n",
        "\n",
        "**Objective:** This notebook aims to tackle the problem of class imbalance in a credit card fraud detection dataset.  will explore how standard classification models are biased towards the majority class and implement several resampling techniques to mitigate this issue.\n",
        "\n",
        "The core tasks are:\n",
        "1.  **Analyze** the severe class imbalance in the dataset.\n",
        "2.  **Establish a baseline** performance using a Logistic Regression model on the original, imbalanced data.\n",
        "3.  **Implement three resampling strategies:**\n",
        "    *   Naive Oversampling (**SMOTE**)\n",
        "    *   Clustering-Based Oversampling (**CBO**)\n",
        "    *   Clustering-Based Undersampling (**CBU**)\n",
        "4.  **Compare** the performance of models trained on these resampled datasets.\n",
        "5.  **Conclude** with a recommendation for the most effective strategy for the company."
      ]
    },
    {
      "cell_type": "markdown",
      "metadata": {
        "id": "AjVf3YHBm208"
      },
      "source": [
        "### Initial Setup: Import Libraries\n",
        "\n",
        "First,  import all the necessary Python libraries for data manipulation, visualization, modeling, and resampling."
      ]
    },
    {
      "cell_type": "code",
      "execution_count": 1,
      "metadata": {
        "colab": {
          "base_uri": "https://localhost:8080/"
        },
        "id": "w7XXPSiZm209",
        "outputId": "4d3b41c4-680d-4405-a681-b45c2f0e61b9"
      },
      "outputs": [
        {
          "output_type": "stream",
          "name": "stdout",
          "text": [
            "Libraries imported successfully!\n"
          ]
        }
      ],
      "source": [
        "# Import necessary libraries\n",
        "import pandas as pd\n",
        "import numpy as np\n",
        "import matplotlib.pyplot as plt\n",
        "import seaborn as sns\n",
        "from sklearn.model_selection import train_test_split\n",
        "from sklearn.linear_model import LogisticRegression\n",
        "from sklearn.metrics import classification_report, confusion_matrix, precision_recall_fscore_support\n",
        "from sklearn.cluster import KMeans\n",
        "from sklearn.preprocessing import StandardScaler\n",
        "from imblearn.over_sampling import SMOTE\n",
        "from imblearn.under_sampling import ClusterCentroids\n",
        "from collections import Counter\n",
        "import warnings\n",
        "warnings.filterwarnings('ignore')\n",
        "\n",
        "# Set random seed for reproducibility\n",
        "np.random.seed(42)\n",
        "\n",
        "print(\"Libraries imported successfully!\")"
      ]
    },
    {
      "cell_type": "markdown",
      "metadata": {
        "id": "k_zYMtytm20-"
      },
      "source": [
        "# PART A: DATA EXPLORATION AND BASELINE MODEL"
      ]
    },
    {
      "cell_type": "markdown",
      "metadata": {
        "id": "cqzwYhWzm20-"
      },
      "source": [
        "---\n",
        "### Task 1: Load and Analyze the Dataset\n",
        "\n",
        " begin by loading the `creditcard.csv` dataset. This dataset contains credit card transactions, where the features are anonymized principal components (V1-V28) due to confidentiality, along with 'Time', 'Amount', and the target 'Class' (0 for normal, 1 for fraudulent). As stated, no further feature engineering is required."
      ]
    },
    {
      "cell_type": "code",
      "execution_count": 2,
      "metadata": {
        "colab": {
          "base_uri": "https://localhost:8080/"
        },
        "id": "-utG9a1Rm20-",
        "outputId": "fc8f3972-21ec-4ef5-a145-37ff7c9c3b4f"
      },
      "outputs": [
        {
          "output_type": "stream",
          "name": "stdout",
          "text": [
            "Using Colab cache for faster access to the 'creditcardfraud' dataset.\n",
            "First 5 records:    Time        V1        V2        V3        V4        V5        V6        V7  \\\n",
            "0   0.0 -1.359807 -0.072781  2.536347  1.378155 -0.338321  0.462388  0.239599   \n",
            "1   0.0  1.191857  0.266151  0.166480  0.448154  0.060018 -0.082361 -0.078803   \n",
            "2   1.0 -1.358354 -1.340163  1.773209  0.379780 -0.503198  1.800499  0.791461   \n",
            "3   1.0 -0.966272 -0.185226  1.792993 -0.863291 -0.010309  1.247203  0.237609   \n",
            "4   2.0 -1.158233  0.877737  1.548718  0.403034 -0.407193  0.095921  0.592941   \n",
            "\n",
            "         V8        V9  ...       V21       V22       V23       V24       V25  \\\n",
            "0  0.098698  0.363787  ... -0.018307  0.277838 -0.110474  0.066928  0.128539   \n",
            "1  0.085102 -0.255425  ... -0.225775 -0.638672  0.101288 -0.339846  0.167170   \n",
            "2  0.247676 -1.514654  ...  0.247998  0.771679  0.909412 -0.689281 -0.327642   \n",
            "3  0.377436 -1.387024  ... -0.108300  0.005274 -0.190321 -1.175575  0.647376   \n",
            "4 -0.270533  0.817739  ... -0.009431  0.798278 -0.137458  0.141267 -0.206010   \n",
            "\n",
            "        V26       V27       V28  Amount  Class  \n",
            "0 -0.189115  0.133558 -0.021053  149.62      0  \n",
            "1  0.125895 -0.008983  0.014724    2.69      0  \n",
            "2 -0.139097 -0.055353 -0.059752  378.66      0  \n",
            "3 -0.221929  0.062723  0.061458  123.50      0  \n",
            "4  0.502292  0.219422  0.215153   69.99      0  \n",
            "\n",
            "[5 rows x 31 columns]\n"
          ]
        }
      ],
      "source": [
        "# Install dependencies as needed:\n",
        "# pip install kagglehub[pandas-datasets]\n",
        "import kagglehub\n",
        "from kagglehub import KaggleDatasetAdapter\n",
        "\n",
        "# Set the path to the file you'd like to load\n",
        "file_path = \"creditcard.csv\"\n",
        "\n",
        "# Load the latest version\n",
        "df = kagglehub.load_dataset(\n",
        "  KaggleDatasetAdapter.PANDAS,\n",
        "  \"mlg-ulb/creditcardfraud\",\n",
        "  file_path,\n",
        "  # Provide any additional arguments like\n",
        "  # sql_query or pandas_kwargs. See the\n",
        "  # documenation for more information:\n",
        "  #https://github.com/Kaggle/kagglehub/blob/main/README.md#kaggledatasetadapterpandas\n",
        ")\n",
        "\n",
        "print(\"First 5 records:\", df.head())"
      ]
    },
    {
      "cell_type": "markdown",
      "metadata": {
        "id": "D2d7yTa6m20-"
      },
      "source": [
        "### Task 2: Analyze Class Distribution\n",
        "\n",
        "A critical first step in any classification problem is to understand the distribution of the target variable. In fraud detection,  expect a severe imbalance, with fraudulent transactions being very rare.  will quantify and visualize this imbalance."
      ]
    },
    {
      "cell_type": "code",
      "execution_count": 3,
      "metadata": {
        "colab": {
          "base_uri": "https://localhost:8080/",
          "height": 663
        },
        "id": "KY0dv4Dym20_",
        "outputId": "85db76c6-2133-4fda-907f-579aca54dd98"
      },
      "outputs": [
        {
          "output_type": "stream",
          "name": "stdout",
          "text": [
            "\n",
            "2. Class Distribution Analysis\n",
            "----------------------------------------\n",
            "Class Distribution:\n",
            "Normal transactions (Class 0): 284315 (99.83%)\n",
            "Fraudulent transactions (Class 1): 492 (0.17%)\n",
            "\n",
            "Imbalance Ratio (Normal:Fraud): 577.9:1\n",
            "Degree of imbalance: This is a highly imbalanced dataset, with fraudulent cases making up only 0.173% of all transactions.\n"
          ]
        },
        {
          "output_type": "display_data",
          "data": {
            "text/plain": [
              "<Figure size 1500x500 with 2 Axes>"
            ],
            "image/png": "[encoded data removed]"
          },
          "metadata": {}
        }
      ],
      "source": [
        "print(\"\\n2. Class Distribution Analysis\")\n",
        "print(\"-\" * 40)\n",
        "\n",
        "class_counts = df['Class'].value_counts()\n",
        "class_percentages = df['Class'].value_counts(normalize=True) * 100\n",
        "\n",
        "print(f\"Class Distribution:\")\n",
        "print(f\"Normal transactions (Class 0): {class_counts[0]} ({class_percentages[0]:.2f}%)\")\n",
        "print(f\"Fraudulent transactions (Class 1): {class_counts[1]} ({class_percentages[1]:.2f}%)\")\n",
        "\n",
        "# Calculate imbalance ratio\n",
        "imbalance_ratio = class_counts[0] / class_counts[1]\n",
        "print(f\"\\nImbalance Ratio (Normal:Fraud): {imbalance_ratio:.1f}:1\")\n",
        "print(f\"Degree of imbalance: This is a highly imbalanced dataset, with fraudulent cases making up only {class_percentages[1]:.3f}% of all transactions.\")\n",
        "\n",
        "# Visualize class distribution\n",
        "fig, (ax1, ax2) = plt.subplots(1, 2, figsize=(15, 5))\n",
        "\n",
        "# Pie chart\n",
        "ax1.pie(class_counts.values, labels=['Normal', 'Fraud'], autopct='%1.3f%%',\n",
        "        colors=['lightblue', 'red'], startangle=90)\n",
        "ax1.set_title('Class Distribution - Pie Chart')\n",
        "\n",
        "# Bar plot\n",
        "ax2.bar(['Normal (0)', 'Fraud (1)'], class_counts.values, color=['lightblue', 'red'])\n",
        "ax2.set_ylabel('Number of Transactions')\n",
        "ax2.set_title('Class Distribution - Bar Chart')\n",
        "ax2.set_yscale('log')  # Log scale to better visualize the tiny minority class\n",
        "\n",
        "plt.tight_layout()\n",
        "plt.show()"
      ]
    },
    {
      "cell_type": "markdown",
      "metadata": {
        "id": "5stB4XSLm20_"
      },
      "source": [
        "### Task 3: Baseline Model\n",
        "\n",
        "To measure the effectiveness of our resampling techniques,  first need a baseline.  will train a Logistic Regression classifier on the original, imbalanced data.\n",
        "\n",
        "**Key Steps:**\n",
        "1.  **Split Data:**  split the data into training and testing sets.  use `stratify=y` to ensure that both the training and test sets have the same proportion of fraudulent transactions as the original dataset. This is crucial for realistic evaluation.\n",
        "2.  **Scale Features:** Features like 'Amount' are on a different scale than the PCA components.  use `StandardScaler` to standardize all features, which is important for the proper convergence of logistic regression.\n",
        "3.  **Train Model:** A simple Logistic Regression model is trained on the scaled, imbalanced training data.\n",
        "4.  **Evaluate:**  evaluate the model on the unseen test set.  will focus on metrics like **Precision, Recall, and F1-score** for the minority class (fraud), as overall accuracy is a misleading metric in this scenario."
      ]
    },
    {
      "cell_type": "code",
      "execution_count": 4,
      "metadata": {
        "colab": {
          "base_uri": "https://localhost:8080/"
        },
        "id": "79Pkp2Onm20_",
        "outputId": "97b8c4d6-011b-41dd-c35e-f25eff586f1c"
      },
      "outputs": [
        {
          "output_type": "stream",
          "name": "stdout",
          "text": [
            "\n",
            "3. Baseline Model Training and Evaluation\n",
            "----------------------------------------\n",
            "Training set shape: (227845, 30)\n",
            "Test set shape: (56962, 30)\n",
            "Training set class distribution: Counter({0: 227451, 1: 394})\n",
            "Test set class distribution: Counter({0: 56864, 1: 98})\n",
            "\n",
            "Training Model 1 (Baseline)...\n",
            "\n",
            "Model 1 (Baseline) - Performance on Imbalanced Test Set:\n",
            "-------------------------------------------------------\n",
            "              precision    recall  f1-score   support\n",
            "\n",
            "           0       1.00      1.00      1.00     56864\n",
            "           1       0.83      0.63      0.72        98\n",
            "\n",
            "    accuracy                           1.00     56962\n",
            "   macro avg       0.91      0.82      0.86     56962\n",
            "weighted avg       1.00      1.00      1.00     56962\n",
            "\n",
            "Key Metrics for Fraud Detection (Minority Class):\n",
            "Precision: 0.8267\n",
            "Recall: 0.6327\n",
            "F1-Score: 0.7168\n",
            "Overall Accuracy: 0.9991\n"
          ]
        }
      ],
      "source": [
        "print(\"\\n3. Baseline Model Training and Evaluation\")\n",
        "print(\"-\" * 40)\n",
        "\n",
        "# Prepare features and target\n",
        "X = df.drop('Class', axis=1)\n",
        "y = df['Class']\n",
        "\n",
        "# Split the data - ensure test set retains original imbalance using 'stratify'\n",
        "X_train, X_test, y_train, y_test = train_test_split(\n",
        "    X, y, test_size=0.2, random_state=42, stratify=y\n",
        ")\n",
        "\n",
        "print(f\"Training set shape: {X_train.shape}\")\n",
        "print(f\"Test set shape: {X_test.shape}\")\n",
        "print(f\"Training set class distribution: {Counter(y_train)}\")\n",
        "print(f\"Test set class distribution: {Counter(y_test)}\")\n",
        "\n",
        "# Scale the features (important for logistic regression)\n",
        "scaler = StandardScaler()\n",
        "X_train_scaled = scaler.fit_transform(X_train)\n",
        "X_test_scaled = scaler.transform(X_test)\n",
        "\n",
        "# Train baseline logistic regression model (Model 1)\n",
        "print(\"\\nTraining Model 1 (Baseline)...\")\n",
        "model_1_baseline = LogisticRegression(random_state=42, max_iter=1000)\n",
        "model_1_baseline.fit(X_train_scaled, y_train)\n",
        "\n",
        "# Predictions\n",
        "y_pred_baseline = model_1_baseline.predict(X_test_scaled)\n",
        "\n",
        "# Evaluate baseline model\n",
        "print(f\"\\nModel 1 (Baseline) - Performance on Imbalanced Test Set:\")\n",
        "print(\"-\" * 55)\n",
        "\n",
        "# Classification report\n",
        "report_baseline = classification_report(y_test, y_pred_baseline, output_dict=True)\n",
        "print(classification_report(y_test, y_pred_baseline))\n",
        "\n",
        "# Extract metrics for minority class (Class 1 - Fraud)\n",
        "precision_fraud = report_baseline['1']['precision']\n",
        "recall_fraud = report_baseline['1']['recall']\n",
        "f1_fraud = report_baseline['1']['f1-score']\n",
        "accuracy = report_baseline['accuracy']\n",
        "\n",
        "print(f\"Key Metrics for Fraud Detection (Minority Class):\")\n",
        "print(f\"Precision: {precision_fraud:.4f}\")\n",
        "print(f\"Recall: {recall_fraud:.4f}\")\n",
        "print(f\"F1-Score: {f1_fraud:.4f}\")\n",
        "print(f\"Overall Accuracy: {accuracy:.4f}\")\n",
        "\n",
        "\n",
        "# Store baseline results\n",
        "baseline_results = {\n",
        "    'precision': precision_fraud,\n",
        "    'recall': recall_fraud,\n",
        "    'f1_score': f1_fraud\n",
        "}"
      ]
    },
    {
      "cell_type": "markdown",
      "metadata": {
        "id": "f9548d35"
      },
      "source": [
        "###Why Accuracy is Misleading:\n",
        "In highly imbalanced datasets, a model can achieve high accuracy by simply predicting the majority class for all instances.\n",
        "For instance, if a model predicted 'Normal' for all transactions in our test set, it would be correct 99.83% of the time.\n",
        "However, it would have a Recall of 0 for fraud, meaning it would fail to catch any fraudulent transactions, making it useless.\n",
        "Precision, Recall, and F1-score for the minority class are therefore much more meaningful metrics for this problem."
      ]
    },
    {
      "cell_type": "markdown",
      "metadata": {
        "id": "0seQflq2m20_"
      },
      "source": [
        "# PART B: RESAMPLING APPROACHES"
      ]
    },
    {
      "cell_type": "markdown",
      "metadata": {
        "id": "mmt9bDa-m20_"
      },
      "source": [
        "---\n",
        "## Task 1: Naive Oversampling (SMOTE)\n",
        "\n",
        "My first approach to balancing the dataset is the **Synthetic Minority Over-sampling Technique (SMOTE)**. This is an oversampling method that creates new, synthetic minority class instances rather than simply duplicating existing ones.\n",
        "\n",
        "### How SMOTE Works\n",
        "\n",
        "SMOTE operates on the feature space and generates synthetic data points by interpolating between existing minority class samples. The process is as follows:\n",
        "\n",
        "1.  **Select a Minority Instance:** For each sample `x` in the minority class, SMOTE selects it as the basis for creating new synthetic data.\n",
        "2.  **Find Nearest Neighbors:** It identifies the *k* nearest neighbors of `x` that also belong to the minority class.\n",
        "3.  **Generate Synthetic Sample:** To create a new synthetic sample, it randomly chooses one of the *k* neighbors, let's call it `x_neighbor`.\n",
        "4.  **Interpolate:** The new sample is generated at a random point along the line segment connecting `x` and `x_neighbor` in the feature space. The formula is:\n",
        "    `x_synthetic = x + λ * (x_neighbor - x)`\n",
        "    where `λ` is a random number between 0 and 1.\n",
        "\n",
        "This process is repeated until the number of minority class samples reaches the desired level, typically matching the number of majority class samples.\n",
        "\n",
        "### Potential Limitations of SMOTE\n",
        "\n",
        "*   **Generation of Noisy Samples:** If a minority class sample is an outlier or is very close to the majority class decision boundary, SMOTE might generate synthetic samples inside the majority class region. This can create noisy data and does not necessarily help the classifier.\n",
        "*   **Ignoring Majority Class Distribution:** SMOTE does not consider the distribution of the majority class when generating samples. This can lead to the creation of synthetic samples that overlap with majority class clusters, making the classification task even harder.\n",
        "*   **Lack of Diversity:** While it creates new samples, SMOTE is limited to linear interpolations between existing minority samples. It does not capture more complex, non-linear patterns within the minority class."
      ]
    },
    {
      "cell_type": "code",
      "execution_count": 5,
      "metadata": {
        "colab": {
          "base_uri": "https://localhost:8080/"
        },
        "id": "7Z4IdHMFm21A",
        "outputId": "cf10e684-0e92-4c7f-fa18-bc4c752e3b10"
      },
      "outputs": [
        {
          "output_type": "stream",
          "name": "stdout",
          "text": [
            "\n",
            "1. Applying SMOTE (Synthetic Minority Over-sampling Technique)\n",
            "------------------------------------------------------------\n",
            "Original training set class distribution: Counter({0: 227451, 1: 394})\n",
            "SMOTE balanced training set class distribution: Counter({0: 227451, 1: 227451})\n"
          ]
        }
      ],
      "source": [
        "print(\"\\n1. Applying SMOTE (Synthetic Minority Over-sampling Technique)\")\n",
        "print(\"-\" * 60)\n",
        "\n",
        "# Apply SMOTE to the scaled training data\n",
        "smote = SMOTE(random_state=42)\n",
        "X_train_smote, y_train_smote = smote.fit_resample(X_train_scaled, y_train)\n",
        "\n",
        "print(f\"Original training set class distribution: {Counter(y_train)}\")\n",
        "print(f\"SMOTE balanced training set class distribution: {Counter(y_train_smote)}\")"
      ]
    },
    {
      "cell_type": "markdown",
      "metadata": {
        "id": "GbgcyXYzm21A"
      },
      "source": [
        "---\n",
        "## Task 2: Clustering-Based Oversampling (CBO)\n",
        "\n",
        "To address the limitations of SMOTE,  can use a more intelligent oversampling method. **Clustering-Based Oversampling (CBO)** aims to generate synthetic samples more strategically by first identifying the underlying structure of the minority class.\n",
        "\n",
        "### Concept and Implementation Steps\n",
        "\n",
        "The core idea is to ensure that synthetic samples are generated within distinct sub-groups (clusters) of the minority class, preserving its internal distribution and avoiding the creation of noise.\n",
        "\n",
        "1.  **Isolate Minority Class:** First,  separate the minority class samples from the training data.\n",
        "2.  **Cluster the Minority Class:**  apply a clustering algorithm, such as **K-Means**, to the minority class data. This divides the rare fraud samples into several smaller, more coherent groups.\n",
        "    *   **Finding the Optimal 'k'**: To choose the number of clusters (k),  can use the **Elbow Method**. This involves running K-Means for a range of k values and plotting the inertia (sum of squared distances of samples to their closest cluster center). The \"elbow\" of the curve represents a point where adding more clusters doesn't significantly reduce inertia, suggesting a good trade-off.\n",
        "3.  **Oversample Within Each Cluster:** After clustering,  oversample within each identified cluster. Instead of picking neighbors from the entire minority class (like SMOTE),  generate synthetic samples by interpolating between data points *that belong to the same cluster*. The number of samples generated from each cluster is typically proportional to the cluster's size.\n",
        "4.  **Combine Datasets:** Finally, the newly generated synthetic minority samples are combined with the original majority class samples to create the new, balanced training set.\n",
        "\n",
        "### How CBO Achieves Its Goal\n",
        "\n",
        "*   **Ensures Diversity:** By oversampling within different clusters, CBO ensures that all sub-groups of fraudulent behavior are well-represented in the final training set. If there are different types of fraud, this method helps the model learn to recognize all of them.\n",
        "*   **Reduces Noise:** Since synthetic samples are created within dense regions of the minority class (the clusters), it is less likely that they will be generated in sparse areas or regions overlapping with the majority class. This leads to a cleaner and more effective training dataset."
      ]
    },
    {
      "cell_type": "code",
      "execution_count": 6,
      "metadata": {
        "colab": {
          "base_uri": "https://localhost:8080/",
          "height": 668
        },
        "id": "w3hU0wodm21A",
        "outputId": "66f3c2e6-ef44-4128-a40a-c84f529b9dd3"
      },
      "outputs": [
        {
          "output_type": "stream",
          "name": "stdout",
          "text": [
            "\n",
            "2. Implementing Clustering-Based Oversampling (CBO)\n",
            "-------------------------------------------------------\n",
            "Minority class samples in training set: 394\n",
            "Majority class samples in training set: 227451\n",
            "Step 1: Finding optimal 'k' for minority class using Elbow Method...\n"
          ]
        },
        {
          "output_type": "display_data",
          "data": {
            "text/plain": [
              "<Figure size 1000x600 with 1 Axes>"
            ],
            "image/png": "[encoded data removed]"
          },
          "metadata": {}
        }
      ],
      "source": [
        "print(\"\\n2. Implementing Clustering-Based Oversampling (CBO)\")\n",
        "print(\"-\" * 55)\n",
        "\n",
        "# Separate minority and majority classes from the scaled training data\n",
        "minority_mask = y_train == 1\n",
        "majority_mask = y_train == 0\n",
        "\n",
        "X_train_minority = X_train_scaled[minority_mask]\n",
        "X_train_majority = X_train_scaled[majority_mask]\n",
        "y_train_minority = y_train[minority_mask]\n",
        "y_train_majority = y_train[majority_mask]\n",
        "\n",
        "print(f\"Minority class samples in training set: {len(X_train_minority)}\")\n",
        "print(f\"Majority class samples in training set: {len(X_train_majority)}\")\n",
        "\n",
        "# Determine optimal number of clusters for minority class using elbow method\n",
        "print(\"Step 1: Finding optimal 'k' for minority class using Elbow Method...\")\n",
        "if len(X_train_minority) >= 10:  # Ensure there are enough samples to form clusters\n",
        "    # Limit max_k to a reasonable number to avoid overfitting and long computation\n",
        "    max_k = min(10, len(X_train_minority) // 2)\n",
        "    inertias = []\n",
        "    k_range = range(2, max_k + 1)\n",
        "\n",
        "    for k in k_range:\n",
        "        if k <= len(X_train_minority):\n",
        "            kmeans = KMeans(n_clusters=k, random_state=42, n_init='auto')\n",
        "            kmeans.fit(X_train_minority)\n",
        "            inertias.append(kmeans.inertia_)\n",
        "\n",
        "    # Plot elbow curve\n",
        "    plt.figure(figsize=(10, 6))\n",
        "    plt.plot(k_range, inertias, 'bo-')\n",
        "    plt.xlabel('Number of Clusters (k)')\n",
        "    plt.ylabel('Inertia')\n",
        "    plt.title('Elbow Method for Optimal k (Minority Class)')\n",
        "    plt.grid(True)\n",
        "    plt.show()\n",
        "\n",
        ""
      ]
    },
    {
      "cell_type": "markdown",
      "source": [
        "Based on elbow  plot, the optimal number of clusters (k) appears to be **5**.\n",
        "\n",
        "Here's the reasoning:\n",
        "\n",
        "1.  **The \"Elbow\" Point:** The elbow method aims to find the point on the curve where the rate of decrease in inertia (the within-cluster sum of squares) slows down significantly. This point looks like an \"elbow\" in the graph.\n",
        "\n",
        "2.  **Analysis of the Curve:**\n",
        "    *   From k=2 to k=5, there are substantial drops in inertia with each additional cluster.\n",
        "    *   After k=5, the line starts to flatten out. The decrease in inertia from k=5 to k=6, and subsequently to k=10, is much less significant than the decreases before it.\n",
        "\n",
        "This \"elbow\" at **k=5** represents the point of diminishing returns, where adding more clusters doesn't provide a much better fit to the data. Therefore, 5 is considered the optimal value for k."
      ],
      "metadata": {
        "id": "E2jfDgJHJF6B"
      }
    },
    {
      "cell_type": "code",
      "source": [
        "optimal_k = 5\n",
        "\n",
        "print(f\"Chosen number of clusters for minority class (k): {optimal_k}\")\n",
        "\n",
        "# Step 2: Cluster the minority class\n",
        "print(\"Step 2: Applying K-Means to minority class...\")\n",
        "kmeans_minority = KMeans(n_clusters=optimal_k, random_state=42, n_init='auto')\n",
        "minority_clusters = kmeans_minority.fit_predict(X_train_minority)\n",
        "\n",
        "print(f\"Minority class cluster distribution: {Counter(minority_clusters)}\")\n",
        "\n",
        "# Step 3: Oversample within each cluster\n",
        "print(\"Step 3: Generating synthetic samples within each cluster...\")\n",
        "def clustering_based_oversampling(X_minority, y_minority, clusters, target_size):\n",
        "    \"\"\"\n",
        "    Oversample minority class based on cluster membership by creating synthetic samples.\n",
        "    \"\"\"\n",
        "    X_oversampled_list = []\n",
        "\n",
        "    # Keep original minority samples\n",
        "    X_oversampled_list.append(X_minority)\n",
        "\n",
        "    # Calculate how many total samples to generate\n",
        "    current_minority_size = len(X_minority)\n",
        "    samples_to_generate = target_size - current_minority_size\n",
        "\n",
        "    # Generate samples for each cluster proportionally to its size\n",
        "    unique_clusters, cluster_counts = np.unique(clusters, return_counts=True)\n",
        "    for cluster_id, cluster_size in zip(unique_clusters, cluster_counts):\n",
        "        cluster_mask = clusters == cluster_id\n",
        "        cluster_samples = X_minority[cluster_mask]\n",
        "\n",
        "        # Number of samples to generate for this specific cluster\n",
        "        samples_for_cluster = int(np.round(samples_to_generate * (cluster_size / current_minority_size)))\n",
        "\n",
        "        if samples_for_cluster > 0 and cluster_size > 1:\n",
        "            # Generate synthetic samples using an interpolation approach (like SMOTE) within the cluster\n",
        "            for _ in range(samples_for_cluster):\n",
        "                # Choose two random samples from the same cluster\n",
        "                idx1, idx2 = np.random.choice(len(cluster_samples), 2, replace=True)\n",
        "                sample1, sample2 = cluster_samples[idx1], cluster_samples[idx2]\n",
        "\n",
        "                # Create a synthetic sample between them\n",
        "                alpha = np.random.random()\n",
        "                synthetic_sample = alpha * sample1 + (1 - alpha) * sample2\n",
        "\n",
        "                X_oversampled_list.append(synthetic_sample.reshape(1, -1))\n",
        "\n",
        "    # Combine all samples\n",
        "    X_oversampled = np.vstack(X_oversampled_list)\n",
        "    y_oversampled = np.ones(len(X_oversampled)) # All are class 1\n",
        "\n",
        "    return X_oversampled, y_oversampled\n",
        "\n",
        "# Apply clustering-based oversampling to match the number of majority samples\n",
        "target_minority_size = len(X_train_majority)\n",
        "X_minority_oversampled, y_minority_oversampled = clustering_based_oversampling(\n",
        "    X_train_minority, y_train_minority, minority_clusters, target_minority_size\n",
        ")\n",
        "\n",
        "# Step 4: Combine with the original majority class to create the final CBO training set\n",
        "print(\"Step 4: Creating the final CBO training set...\")\n",
        "X_train_cbo = np.vstack([X_train_majority, X_minority_oversampled])\n",
        "y_train_cbo = np.hstack([y_train_majority, y_minority_oversampled])\n",
        "\n",
        "print(f\"CBO balanced training set class distribution: {Counter(y_train_cbo)}\")"
      ],
      "metadata": {
        "colab": {
          "base_uri": "https://localhost:8080/"
        },
        "id": "78dqR2b9KBAJ",
        "outputId": "57920bfc-6676-4249-c817-e22589d60f6d"
      },
      "execution_count": 7,
      "outputs": [
        {
          "output_type": "stream",
          "name": "stdout",
          "text": [
            "Chosen number of clusters for minority class (k): 5\n",
            "Step 2: Applying K-Means to minority class...\n",
            "Minority class cluster distribution: Counter({np.int32(2): 161, np.int32(0): 80, np.int32(1): 74, np.int32(3): 68, np.int32(4): 11})\n",
            "Step 3: Generating synthetic samples within each cluster...\n",
            "Step 4: Creating the final CBO training set...\n",
            "CBO balanced training set class distribution: Counter({np.float64(0.0): 227451, np.float64(1.0): 227451})\n"
          ]
        }
      ]
    },
    {
      "cell_type": "markdown",
      "metadata": {
        "id": "VYa_GYEzm21A"
      },
      "source": [
        "---\n",
        "## Task 3: Clustering-Based Undersampling (CBU)\n",
        "\n",
        "The opposite of oversampling is undersampling, where  reduce the number of majority class samples. Randomly removing samples can be dangerous, as  might discard important information. **Clustering-Based Undersampling (CBU)** provides a more strategic way to undersample.\n",
        "\n",
        "### Concept and Implementation Steps\n",
        "\n",
        "The goal of CBU is to reduce the size of the majority class while preserving its overall distribution and diversity. Instead of removing samples randomly,  remove them in a way that maintains the structure of the majority class.\n",
        "\n",
        "1.  **Isolate Majority Class:**  separate the majority class samples from the training data.\n",
        "2.  **Cluster the Majority Class:**  apply a clustering algorithm (e.g., K-Means) to the numerous majority class samples. This groups them into clusters representing different patterns of non-fraudulent behavior.\n",
        "3.  **Undersample From Each Cluster:**  decide on a target size for the majority class (typically to match the size of the minority class). Then,  remove samples from each cluster to reach this target. A common and effective strategy is **proportional undersampling**: if a cluster contains 20% of the majority data, it will also constitute 20% of the undersampled majority data. This is done by randomly selecting a proportional number of samples to *keep* from each cluster.\n",
        "4.  **Combine Datasets:** The reduced set of majority class samples is then combined with the *original, complete set* of minority class samples to form the new, balanced training dataset.\n",
        "\n",
        "### How CBU Achieves Its Goal\n",
        "\n",
        "*   **Maintains Representative Sample:** By keeping samples from every cluster, CBU ensures that different types of non-fraudulent transactions are still represented in the training data, preventing the model from becoming ignorant of certain patterns.\n",
        "*   **Reduces Redundancy:** Many majority class samples are often redundant. CBU effectively removes this redundancy while preserving the core structure of the data.\n",
        "*   **Faster Training:** The resulting training set is much smaller than the original or oversampled datasets, which leads to significantly faster model training times."
      ]
    },
    {
      "cell_type": "code",
      "execution_count": 8,
      "metadata": {
        "colab": {
          "base_uri": "https://localhost:8080/"
        },
        "id": "97JzcmSHm21A",
        "outputId": "0d9044ce-3242-40c2-f6ef-9128bd606fe3"
      },
      "outputs": [
        {
          "output_type": "stream",
          "name": "stdout",
          "text": [
            "\n",
            "3. Implementing Clustering-Based Undersampling (CBU)\n",
            "-------------------------------------------------------\n",
            "Step 1: Applying K-Means to majority class with k=10...\n",
            "Majority class cluster distribution: Counter({np.int32(2): 58458, np.int32(7): 46176, np.int32(9): 27333, np.int32(6): 22818, np.int32(3): 22793, np.int32(8): 18030, np.int32(5): 15584, np.int32(1): 12484, np.int32(4): 2768, np.int32(0): 1007})\n",
            "Step 2: Undersampling proportionally from each cluster...\n",
            "Step 3: Creating the final CBU training set...\n",
            "CBU balanced training set: Counter({np.int64(0): 394, np.int64(1): 394})\n"
          ]
        }
      ],
      "source": [
        "print(\"\\n3. Implementing Clustering-Based Undersampling (CBU)\")\n",
        "print(\"-\" * 55)\n",
        "\n",
        "# Step 1: Cluster the majority class\n",
        "# For a large number of majority samples,  can choose a higher 'k'\n",
        "optimal_k_majority = 10\n",
        "print(f\"Step 1: Applying K-Means to majority class with k={optimal_k_majority}...\")\n",
        "kmeans_majority = KMeans(n_clusters=optimal_k_majority, random_state=42, n_init='auto')\n",
        "majority_clusters = kmeans_majority.fit_predict(X_train_majority)\n",
        "\n",
        "print(f\"Majority class cluster distribution: {Counter(majority_clusters)}\")\n",
        "\n",
        "# Step 2: Undersample proportionally from each majority cluster\n",
        "print(\"Step 2: Undersampling proportionally from each cluster...\")\n",
        "def clustering_based_undersampling(X_majority, y_majority, clusters, target_size):\n",
        "    \"\"\"\n",
        "    Undersample majority class proportionally based on cluster membership.\n",
        "    \"\"\"\n",
        "    X_undersampled_list = []\n",
        "    y_undersampled_list = []\n",
        "\n",
        "    total_majority_size = len(X_majority)\n",
        "    unique_clusters, cluster_counts = np.unique(clusters, return_counts=True)\n",
        "\n",
        "    for cluster_id, cluster_size in zip(unique_clusters, cluster_counts):\n",
        "        cluster_mask = clusters == cluster_id\n",
        "        cluster_samples = X_majority[cluster_mask]\n",
        "        cluster_labels = y_majority[cluster_mask]\n",
        "\n",
        "        # Calculate how many samples to keep from this cluster (proportional)\n",
        "        proportion = cluster_size / total_majority_size\n",
        "        samples_to_keep = int(np.round(target_size * proportion))\n",
        "        samples_to_keep = max(1, samples_to_keep) # Keep at least one sample\n",
        "        samples_to_keep = min(samples_to_keep, cluster_size) # Don't exceed cluster size\n",
        "\n",
        "        # Randomly select the indices of samples to keep\n",
        "        if cluster_size > 0:\n",
        "            selected_indices = np.random.choice(cluster_size, samples_to_keep, replace=False)\n",
        "            X_undersampled_list.append(cluster_samples[selected_indices])\n",
        "            y_undersampled_list.append(cluster_labels.iloc[selected_indices])\n",
        "\n",
        "    return np.vstack(X_undersampled_list), np.hstack(y_undersampled_list)\n",
        "\n",
        "# Apply clustering-based undersampling to match the number of minority samples\n",
        "target_majority_size = len(X_train_minority)\n",
        "X_majority_undersampled, y_majority_undersampled = clustering_based_undersampling(\n",
        "    X_train_majority, pd.Series(y_train_majority), majority_clusters, target_majority_size\n",
        ")\n",
        "\n",
        "# Step 3: Combine with all minority class samples to create the final CBU training set\n",
        "print(\"Step 3: Creating the final CBU training set...\")\n",
        "X_train_cbu = np.vstack([X_majority_undersampled, X_train_minority])\n",
        "y_train_cbu = np.hstack([y_majority_undersampled, y_train_minority])\n",
        "\n",
        "print(f\"CBU balanced training set: {Counter(y_train_cbu)}\")"
      ]
    },
    {
      "cell_type": "markdown",
      "metadata": {
        "id": "aWTvu1dCm21B"
      },
      "source": [
        "# PART C: MODEL COMPARISON AND ANALYSIS"
      ]
    },
    {
      "cell_type": "markdown",
      "metadata": {
        "id": "mwshG7iEm21B"
      },
      "source": [
        "---\n",
        "### Task 1: Train and Evaluate Models\n",
        "\n",
        "Now that  have three new balanced training datasets (from SMOTE, CBO, and CBU),  will train a new Logistic Regression model on each one.\n",
        "\n",
        "Crucially,  will **evaluate all models on the original, imbalanced test set**. This is the most important step for a fair comparison, as it measures how well each model generalizes to the real-world, imbalanced data distribution."
      ]
    },
    {
      "cell_type": "code",
      "execution_count": 9,
      "metadata": {
        "colab": {
          "base_uri": "https://localhost:8080/"
        },
        "id": "pGHB1o1qm21B",
        "outputId": "939c95fa-2900-4da4-8cdf-8c3c5ee193fb"
      },
      "outputs": [
        {
          "output_type": "stream",
          "name": "stdout",
          "text": [
            "\n",
            "1. Training and Evaluating All Models\n",
            "----------------------------------------\n",
            "Training Model 2 (SMOTE)...\n",
            "Training Model 3 (Clustering-Based Oversampling)...\n",
            "Training Model 4 (Clustering-Based Undersampling)...\n",
            "\n",
            "Model Performance Evaluation on the Imbalanced Test Set:\n",
            "============================================================\n",
            "Model 1 (Baseline) - Precision: 0.8267, Recall: 0.6327, F1: 0.7168\n",
            "\n",
            "Model 2 (SMOTE) Results:\n",
            "Precision (Fraud): 0.0578\n",
            "Recall (Fraud): 0.9184\n",
            "F1-Score (Fraud): 0.1088\n",
            "\n",
            "Model 3 (CBO) Results:\n",
            "Precision (Fraud): 0.0591\n",
            "Recall (Fraud): 0.9184\n",
            "F1-Score (Fraud): 0.1110\n",
            "\n",
            "Model 4 (CBU) Results:\n",
            "Precision (Fraud): 0.0483\n",
            "Recall (Fraud): 0.9184\n",
            "F1-Score (Fraud): 0.0917\n"
          ]
        }
      ],
      "source": [
        "print(\"\\n1. Training and Evaluating All Models\")\n",
        "print(\"-\" * 40)\n",
        "\n",
        "# Model 2: SMOTE\n",
        "print(\"Training Model 2 (SMOTE)...\")\n",
        "model_2_smote = LogisticRegression(random_state=42, max_iter=1000)\n",
        "model_2_smote.fit(X_train_smote, y_train_smote)\n",
        "y_pred_smote = model_2_smote.predict(X_test_scaled)\n",
        "\n",
        "# Model 3: CBO\n",
        "print(\"Training Model 3 (Clustering-Based Oversampling)...\")\n",
        "model_3_cbo = LogisticRegression(random_state=42, max_iter=1000)\n",
        "model_3_cbo.fit(X_train_cbo, y_train_cbo)\n",
        "y_pred_cbo = model_3_cbo.predict(X_test_scaled)\n",
        "\n",
        "# Model 4: CBU\n",
        "print(\"Training Model 4 (Clustering-Based Undersampling)...\")\n",
        "model_4_cbu = LogisticRegression(random_state=42, max_iter=1000)\n",
        "model_4_cbu.fit(X_train_cbu, y_train_cbu)\n",
        "y_pred_cbu = model_4_cbu.predict(X_test_scaled)\n",
        "\n",
        "# --- Evaluation --- #\n",
        "def evaluate_model(y_true, y_pred, model_name):\n",
        "    \"\"\"Helper function to evaluate model performance and return key metrics\"\"\"\n",
        "    report = classification_report(y_true, y_pred, output_dict=True)\n",
        "\n",
        "    # Extract minority class metrics\n",
        "    precision = report.get('1', {}).get('precision', 0)\n",
        "    recall = report.get('1', {}).get('recall', 0)\n",
        "    f1 = report.get('1', {}).get('f1-score', 0)\n",
        "\n",
        "    print(f\"\\n{model_name} Results:\")\n",
        "    print(f\"Precision (Fraud): {precision:.4f}\")\n",
        "    print(f\"Recall (Fraud): {recall:.4f}\")\n",
        "    print(f\"F1-Score (Fraud): {f1:.4f}\")\n",
        "\n",
        "    return precision, recall, f1\n",
        "\n",
        "print(\"\\nModel Performance Evaluation on the Imbalanced Test Set:\")\n",
        "print(\"=\"*60)\n",
        "\n",
        "# Model 1 results already computed\n",
        "print(f\"Model 1 (Baseline) - Precision: {baseline_results['precision']:.4f}, \"\n",
        "      f\"Recall: {baseline_results['recall']:.4f}, F1: {baseline_results['f1_score']:.4f}\")\n",
        "\n",
        "# Model 2: SMOTE\n",
        "precision_smote, recall_smote, f1_smote = evaluate_model(y_test, y_pred_smote, \"Model 2 (SMOTE)\")\n",
        "\n",
        "# Model 3: CBO\n",
        "precision_cbo, recall_cbo, f1_cbo = evaluate_model(y_test, y_pred_cbo, \"Model 3 (CBO)\")\n",
        "\n",
        "# Model 4: CBU\n",
        "precision_cbu, recall_cbu, f1_cbu = evaluate_model(y_test, y_pred_cbu, \"Model 4 (CBU)\")"
      ]
    },
    {
      "cell_type": "markdown",
      "metadata": {
        "id": "NGuLKpBIm21B"
      },
      "source": [
        "### Task 2: Performance Comparison\n",
        "\n",
        "To make our findings clear,  will create a summary table and a bar chart to compare the Precision, Recall, and F1-score of all four models for the minority (fraud) class."
      ]
    },
    {
      "cell_type": "code",
      "execution_count": 10,
      "metadata": {
        "colab": {
          "base_uri": "https://localhost:8080/",
          "height": 784
        },
        "id": "xFCdTIGZm21B",
        "outputId": "5b36d79c-c6d8-4964-9848-dda13ccfc23e"
      },
      "outputs": [
        {
          "output_type": "stream",
          "name": "stdout",
          "text": [
            "\n",
            "2. Performance Comparison\n",
            "----------------------------------------\n",
            "\n",
            "Performance Comparison Table (Minority Class - Fraud Detection):\n",
            "      Model  Precision  Recall  F1-Score\n",
            "0  Baseline     0.8267  0.6327    0.7168\n",
            "1     SMOTE     0.0578  0.9184    0.1088\n",
            "2       CBO     0.0591  0.9184    0.1110\n",
            "3       CBU     0.0483  0.9184    0.0917\n"
          ]
        },
        {
          "output_type": "display_data",
          "data": {
            "text/plain": [
              "<Figure size 1800x600 with 3 Axes>"
            ],
            "image/png": "[encoded data removed]"
          },
          "metadata": {}
        }
      ],
      "source": [
        "print(\"\\n2. Performance Comparison\")\n",
        "print(\"-\" * 40)\n",
        "\n",
        "# Create comparison table\n",
        "comparison_data = {\n",
        "    'Model': ['Baseline', 'SMOTE', 'CBO', 'CBU'],\n",
        "    'Precision': [baseline_results['precision'], precision_smote, precision_cbo, precision_cbu],\n",
        "    'Recall': [baseline_results['recall'], recall_smote, recall_cbo, recall_cbu],\n",
        "    'F1-Score': [baseline_results['f1_score'], f1_smote, f1_cbo, f1_cbu]\n",
        "}\n",
        "\n",
        "comparison_df = pd.DataFrame(comparison_data)\n",
        "print(\"\\nPerformance Comparison Table (Minority Class - Fraud Detection):\")\n",
        "print(comparison_df.round(4))\n",
        "\n",
        "# Visualize comparison\n",
        "fig, axes = plt.subplots(1, 3, figsize=(18, 6), sharey=True)\n",
        "fig.suptitle('Model Performance Comparison for Fraud Detection', fontsize=16)\n",
        "\n",
        "metrics = ['Precision', 'Recall', 'F1-Score']\n",
        "colors = ['skyblue', 'lightgreen', 'lightcoral', 'lightsalmon']\n",
        "\n",
        "for i, metric in enumerate(metrics):\n",
        "    bars = axes[i].bar(comparison_data['Model'], comparison_data[metric], color=colors)\n",
        "    axes[i].set_title(f'{metric} Comparison')\n",
        "    axes[i].set_ylabel(f'{metric} Score')\n",
        "    axes[i].set_ylim(0, 1)\n",
        "\n",
        "    # Add value labels on bars\n",
        "    axes[i].bar_label(bars, fmt='%.3f')\n",
        "\n",
        "plt.tight_layout(rect=[0, 0, 1, 0.96])\n",
        "plt.show()"
      ]
    },
    {
      "cell_type": "markdown",
      "metadata": {
        "id": "BTPflbZzm21B"
      },
      "source": [
        "### Task 3: Conclusion and Recommendations\n",
        "\n",
        "\n",
        "#### Discussion of Results\n",
        "\n",
        "The performance comparison reveals a critical trade-off between Precision and Recall.\n",
        "\n",
        "*   The **Baseline** model, trained on the original imbalanced data, achieved a high **Precision (0.827)** but an unacceptable **Recall (0.633)**. This means that while it was correct 83% of the time it flagged a transaction as fraudulent, it failed to identify over 36% of all actual fraud cases. For a fraud detection system, this high number of missed cases (false negatives) represents a significant financial risk.\n",
        "\n",
        "*   All three resampling techniques (**SMOTE, CBO, and CBU**) successfully addressed the low recall problem, boosting it dramatically to approximately **0.918**. This demonstrates their effectiveness in forcing the model to learn the patterns of the minority class, thereby catching almost 92% of fraudulent transactions.\n",
        "\n",
        "*   However, this improvement in recall came at a severe cost to **Precision**, which plummeted to around **5-6%** for all resampled models. A precision of 5.9% (for CBO) means that out of every 100 transactions flagged as fraud, over 94 are actually legitimate. This would lead to an extremely high number of false positives, resulting in blocked customer transactions, increased operational costs for manual review, and significant customer dissatisfaction.\n",
        "\n",
        "#### Which method performed best and why?\n",
        "\n",
        "Based on the **F1-Score**, which balances precision and recall, the **Baseline model (F1: 0.717)** is surprisingly the top performer. The resampled models, despite their high recall, have such poor precision that their F1-scores are drastically lower (all around 0.1).\n",
        "\n",
        "However, simply choosing the model with the highest F1-score is not appropriate here. The core objective of a fraud system is to *detect fraud*, making the Baseline's 63% recall insufficient. Conversely, the resampled models' ~5% precision is operationally unviable due to the flood of false positives.\n",
        "\n",
        "Between the resampled techniques, **Clustering-Based Oversampling (CBO)** performed marginally the best, achieving the highest F1-Score (0.111) and Precision (0.059) while matching the high recall of the other methods. This suggests that its more intelligent approach of generating samples within minority sub-groups created a slightly cleaner dataset than SMOTE or CBU in this context.\n",
        "\n",
        "#### Final Recommendation\n",
        "\n",
        "Given the business context of fraud detection, I recommend a **two-pronged strategy** for the company, with **Clustering-Based Oversampling (CBO)** as the foundation.\n",
        "\n",
        "**Recommendation: Implement the CBO-trained model as a high-sensitivity \"first-pass filter.\"**\n",
        "\n",
        "**Justification:**\n",
        "\n",
        "1.  **Maximizes Fraud Detection (Highest Priority):** The CBO model successfully identifies **91.8% of fraudulent transactions**. This high recall ensures that very few fraud cases slip through the net, directly addressing the primary business risk. The Baseline model is not recommended because it fails this fundamental requirement.\n",
        "\n",
        "2.  **Acknowledges the False Positive Problem:** The model's extremely low precision is its major weakness. Therefore, it should not be used as a final, automated decision-making tool to block transactions. Instead, transactions flagged by this model should be routed to a **second stage of verification**. This could be:\n",
        "    *   A human review team.\n",
        "    *   A secondary, high-precision machine learning model trained to differentiate the flagged transactions.\n",
        "    *   An automated system that requests multi-factor authentication from the customer.\n",
        "\n",
        "3.  **Superior Resampling Strategy:** CBO outperformed SMOTE, indicating that understanding the sub-structures within the fraud data leads to a better model. It also provides a more robust training set than CBU in this instance, which had the lowest precision of all.\n",
        "\n",
        "By using the CBO model as a sensitive screening tool rather than a final arbiter, the company can leverage its high recall to catch fraud effectively while implementing a secondary process to manage the high volume of false positives and maintain a good customer experience.\n"
      ]
    },
    {
      "cell_type": "code",
      "source": [],
      "metadata": {
        "id": "Yo9zO6tCMs_7"
      },
      "execution_count": null,
      "outputs": []
    }
  ],
  "metadata": {
    "kernelspec": {
      "display_name": "Python 3",
      "language": "python",
      "name": "python3"
    },
    "language_info": {
      "codemirror_mode": {
        "name": "ipython",
        "version": 3
      },
      "file_extension": ".py",
      "mimetype": "text/x-python",
      "name": "python",
      "nbconvert_exporter": "python",
      "pygments_lexer": "ipython3",
      "version": "3.9.7"
    },
    "colab": {
      "provenance": []
    }
  },
  "nbformat": 4,
  "nbformat_minor": 0
}